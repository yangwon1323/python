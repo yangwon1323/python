{
  "nbformat": 4,
  "nbformat_minor": 0,
  "metadata": {
    "colab": {
      "provenance": [],
      "authorship_tag": "ABX9TyOtAc8uIeI5k7iO2DniCfA/",
      "include_colab_link": true
    },
    "kernelspec": {
      "name": "python3",
      "display_name": "Python 3"
    },
    "language_info": {
      "name": "python"
    }
  },
  "cells": [
    {
      "cell_type": "markdown",
      "metadata": {
        "id": "view-in-github",
        "colab_type": "text"
      },
      "source": [
        "<a href=\"https://colab.research.google.com/github/yangwon1323/python/blob/main/%EA%B3%BC%EC%A0%9C9.ipynb\" target=\"_parent\"><img src=\"https://colab.research.google.com/assets/colab-badge.svg\" alt=\"Open In Colab\"/></a>"
      ]
    },
    {
      "cell_type": "code",
      "execution_count": 5,
      "metadata": {
        "colab": {
          "base_uri": "https://localhost:8080/"
        },
        "id": "ZomN2ORWbeQI",
        "outputId": "8e34598d-ad81-4d12-ab16-d80cee2e833d"
      },
      "outputs": [
        {
          "output_type": "stream",
          "name": "stdout",
          "text": [
            "컴퓨터과 3학년 1반\n"
          ]
        }
      ],
      "source": [
        "for i in range(4,5, 1):\n",
        "  print(\"컴퓨터과 3학년 1반\")\n"
      ]
    },
    {
      "cell_type": "code",
      "source": [
        "for i in [0,1,2,3,4,5] :\n",
        "  print(\"컴퓨터과 3학년 1반\") "
      ],
      "metadata": {
        "colab": {
          "base_uri": "https://localhost:8080/"
        },
        "id": "60C_oCnJdoET",
        "outputId": "e4ab18cb-cb83-4a33-beb2-589bb22c9ab7"
      },
      "execution_count": 6,
      "outputs": [
        {
          "output_type": "stream",
          "name": "stdout",
          "text": [
            "컴퓨터과 3학년 1반\n",
            "컴퓨터과 3학년 1반\n",
            "컴퓨터과 3학년 1반\n",
            "컴퓨터과 3학년 1반\n",
            "컴퓨터과 3학년 1반\n",
            "컴퓨터과 3학년 1반\n"
          ]
        }
      ]
    },
    {
      "cell_type": "code",
      "source": [
        "for i in [\"봄\",\"여름\",\"가을\",\"겨울\"] :\n",
        "  print(i,\"컴퓨터과 3학년 1반\")"
      ],
      "metadata": {
        "colab": {
          "base_uri": "https://localhost:8080/"
        },
        "id": "_jVzHgpPd77B",
        "outputId": "80f65fad-0ecb-4943-e581-8d80a2810918"
      },
      "execution_count": 10,
      "outputs": [
        {
          "output_type": "stream",
          "name": "stdout",
          "text": [
            "봄 컴퓨터과 3학년 1반\n",
            "여름 컴퓨터과 3학년 1반\n",
            "가을 컴퓨터과 3학년 1반\n",
            "겨울 컴퓨터과 3학년 1반\n"
          ]
        }
      ]
    },
    {
      "cell_type": "code",
      "source": [
        "for i in range(1, 12, 2) :\n",
        "  print(i, \"컴퓨터과 \")"
      ],
      "metadata": {
        "colab": {
          "base_uri": "https://localhost:8080/"
        },
        "id": "KK1SIv-ReSRy",
        "outputId": "2fa4b518-ed8d-482e-830b-78471a92c4ac"
      },
      "execution_count": 15,
      "outputs": [
        {
          "output_type": "stream",
          "name": "stdout",
          "text": [
            "1 컴퓨터과 \n",
            "3 컴퓨터과 \n",
            "5 컴퓨터과 \n",
            "7 컴퓨터과 \n",
            "9 컴퓨터과 \n",
            "11 컴퓨터과 \n"
          ]
        }
      ]
    },
    {
      "cell_type": "code",
      "source": [
        "for i in range(2, 6, 1) :\n",
        "  print(i, end=\" \")"
      ],
      "metadata": {
        "colab": {
          "base_uri": "https://localhost:8080/"
        },
        "id": "CiNVcj7se1ji",
        "outputId": "0d6edaa8-6363-4aaf-cff6-b5b0d38de0ce"
      },
      "execution_count": 21,
      "outputs": [
        {
          "output_type": "stream",
          "name": "stdout",
          "text": [
            "2 3 4 5 "
          ]
        }
      ]
    },
    {
      "cell_type": "code",
      "source": [
        "n = 1\n",
        "for i in range(1,6, 1) :\n",
        "  n = n * i \n",
        "print(\"A,B,C,D,E 학생들을 순서대로 세우는 경우의 수\", n)\n",
        "   \n",
        "\n"
      ],
      "metadata": {
        "colab": {
          "base_uri": "https://localhost:8080/"
        },
        "id": "HHYLn868eF0w",
        "outputId": "5379bd7d-006d-4fbc-906c-716552203b5a"
      },
      "execution_count": 31,
      "outputs": [
        {
          "output_type": "stream",
          "name": "stdout",
          "text": [
            "A,B,C,D,E 학생들을 순서대로 세우는 경우의 수 120\n"
          ]
        }
      ]
    },
    {
      "cell_type": "code",
      "source": [
        "hap = 0\n",
        "\n",
        "for i in range(1, 11, 1) :\n",
        "  hap += i \n",
        "print(hap)\n",
        "\n"
      ],
      "metadata": {
        "colab": {
          "base_uri": "https://localhost:8080/"
        },
        "id": "0KNMP2q1h2bi",
        "outputId": "346194c0-8fcf-4928-dec7-1618038dbd2a"
      },
      "execution_count": 37,
      "outputs": [
        {
          "output_type": "stream",
          "name": "stdout",
          "text": [
            "55\n"
          ]
        }
      ]
    },
    {
      "cell_type": "code",
      "source": [
        "odd_sum = 0\n",
        "for i in range(1000, 1500, 2) :\n",
        "  odd_sum += i\n",
        "print(odd_sum)\n"
      ],
      "metadata": {
        "colab": {
          "base_uri": "https://localhost:8080/"
        },
        "id": "JdD-KaM_ilhh",
        "outputId": "bcab3051-ac95-488e-b30b-6e18cd90bc31"
      },
      "execution_count": 39,
      "outputs": [
        {
          "output_type": "stream",
          "name": "stdout",
          "text": [
            "312250\n"
          ]
        }
      ]
    },
    {
      "cell_type": "code",
      "source": [
        "i = 0\n",
        "hap = 0\n",
        "for i in range(500, 1001, 2) :\n",
        "  hap = hap + i\n",
        "print(\"500에서 1000천까지의 짝수의 합 i\", hap)\n"
      ],
      "metadata": {
        "colab": {
          "base_uri": "https://localhost:8080/"
        },
        "id": "184eGKPcjwv3",
        "outputId": "4365d041-f61f-4b96-bccd-3f403f481cd9"
      },
      "execution_count": 42,
      "outputs": [
        {
          "output_type": "stream",
          "name": "stdout",
          "text": [
            "500에서 1000천까지의 짝수의 합 i 188250\n"
          ]
        }
      ]
    },
    {
      "cell_type": "code",
      "source": [
        "for i in range(3):\n",
        "  for k in range(2) :\n",
        "    print(\"난생처음은 쉽습니다. ^^ (i값:\",i ,\", k값:\", k,\")\")"
      ],
      "metadata": {
        "colab": {
          "base_uri": "https://localhost:8080/"
        },
        "id": "4YxFfGiwiG7n",
        "outputId": "2ccd1f89-6eda-4dd1-9613-098b3523ea8d"
      },
      "execution_count": 45,
      "outputs": [
        {
          "output_type": "stream",
          "name": "stdout",
          "text": [
            "난생처음은 쉽습니다. ^^ (i값: 0 , k값: 0 )\n",
            "난생처음은 쉽습니다. ^^ (i값: 0 , k값: 1 )\n",
            "난생처음은 쉽습니다. ^^ (i값: 1 , k값: 0 )\n",
            "난생처음은 쉽습니다. ^^ (i값: 1 , k값: 1 )\n",
            "난생처음은 쉽습니다. ^^ (i값: 2 , k값: 0 )\n",
            "난생처음은 쉽습니다. ^^ (i값: 2 , k값: 1 )\n"
          ]
        }
      ]
    },
    {
      "cell_type": "code",
      "source": [
        "i = 0\n",
        "while i <= 2 :\n",
        "  print(\"hello\")\n",
        "  i = i+1"
      ],
      "metadata": {
        "colab": {
          "base_uri": "https://localhost:8080/"
        },
        "id": "VhOSiAZPlwsA",
        "outputId": "32476a4d-8804-4539-86ee-5e9663a23886"
      },
      "execution_count": 52,
      "outputs": [
        {
          "output_type": "stream",
          "name": "stdout",
          "text": [
            "hello\n",
            "hello\n",
            "hello\n"
          ]
        }
      ]
    },
    {
      "cell_type": "code",
      "source": [
        "for i in range(1, 10 ,1) :\n",
        "  print(\"\\n\")\n",
        "  for j in range(2, 10 , 1):\n",
        "    print(j,\"*\",i,\"=\", i*j, end= \" \")\n"
      ],
      "metadata": {
        "colab": {
          "base_uri": "https://localhost:8080/"
        },
        "id": "HW-GY10hqNiH",
        "outputId": "55d0b2a6-6948-44b4-9c1f-a4514f71bd00"
      },
      "execution_count": 70,
      "outputs": [
        {
          "output_type": "stream",
          "name": "stdout",
          "text": [
            "\n",
            "\n",
            "2 * 1 = 2 3 * 1 = 3 4 * 1 = 4 5 * 1 = 5 6 * 1 = 6 7 * 1 = 7 8 * 1 = 8 9 * 1 = 9 \n",
            "\n",
            "2 * 2 = 4 3 * 2 = 6 4 * 2 = 8 5 * 2 = 10 6 * 2 = 12 7 * 2 = 14 8 * 2 = 16 9 * 2 = 18 \n",
            "\n",
            "2 * 3 = 6 3 * 3 = 9 4 * 3 = 12 5 * 3 = 15 6 * 3 = 18 7 * 3 = 21 8 * 3 = 24 9 * 3 = 27 \n",
            "\n",
            "2 * 4 = 8 3 * 4 = 12 4 * 4 = 16 5 * 4 = 20 6 * 4 = 24 7 * 4 = 28 8 * 4 = 32 9 * 4 = 36 \n",
            "\n",
            "2 * 5 = 10 3 * 5 = 15 4 * 5 = 20 5 * 5 = 25 6 * 5 = 30 7 * 5 = 35 8 * 5 = 40 9 * 5 = 45 \n",
            "\n",
            "2 * 6 = 12 3 * 6 = 18 4 * 6 = 24 5 * 6 = 30 6 * 6 = 36 7 * 6 = 42 8 * 6 = 48 9 * 6 = 54 \n",
            "\n",
            "2 * 7 = 14 3 * 7 = 21 4 * 7 = 28 5 * 7 = 35 6 * 7 = 42 7 * 7 = 49 8 * 7 = 56 9 * 7 = 63 \n",
            "\n",
            "2 * 8 = 16 3 * 8 = 24 4 * 8 = 32 5 * 8 = 40 6 * 8 = 48 7 * 8 = 56 8 * 8 = 64 9 * 8 = 72 \n",
            "\n",
            "2 * 9 = 18 3 * 9 = 27 4 * 9 = 36 5 * 9 = 45 6 * 9 = 54 7 * 9 = 63 8 * 9 = 72 9 * 9 = 81 "
          ]
        }
      ]
    },
    {
      "cell_type": "code",
      "source": [
        "from ast import Continue\n",
        "i = 0\n",
        "while True :\n",
        "  print(\"ㅎ\",end=\" \")\n",
        "  i += 1\n",
        "\n",
        "  if i==10  :\n",
        "   break\n",
        "   \n"
      ],
      "metadata": {
        "colab": {
          "base_uri": "https://localhost:8080/"
        },
        "id": "c9noSgfFtyb3",
        "outputId": "bf0e3332-8629-4031-9ef9-d13b4ca0db57"
      },
      "execution_count": 78,
      "outputs": [
        {
          "output_type": "stream",
          "name": "stdout",
          "text": [
            "ㅎ ㅎ ㅎ ㅎ ㅎ ㅎ ㅎ ㅎ ㅎ ㅎ "
          ]
        }
      ]
    },
    {
      "cell_type": "code",
      "source": [],
      "metadata": {
        "id": "nzzvkoqkv1v6"
      },
      "execution_count": null,
      "outputs": []
    },
    {
      "cell_type": "code",
      "source": [
        "from traitlets.config.application import T\n",
        "def menu() :\n",
        " print(\"##############\")\n",
        " print(\"# 1, 덧셈    #\")\n",
        " print(\"# 2, 뺄셈    #\")\n",
        " print(\"# 3, 나눗셈  #\")\n",
        " print(\"# 4, 곱셈    #\")\n",
        " print(\"# 5, 종료    #\")\n",
        "\n",
        "def add() :\n",
        "  num1 = float(input(\"첫번째 숫자를 입력 :\"))\n",
        "  num2 = float(input(\"두번째 숫자를 입력 :\"))\n",
        "  sum = num1 + num2\n",
        "  return sum\n",
        "  \n",
        "def minus() :\n",
        "  num1 = float(input(\"첫번째 숫자를 입력 :\"))\n",
        "  num2 = float(input(\"두번째 숫자를 입력 :\"))\n",
        "  sum = num1 - num2\n",
        "  return sum\n",
        "  \n",
        "def times() :\n",
        "  num1 = float(input(\"첫번째 숫자를 입력 :\"))\n",
        "  num2 = float(input(\"두번째 숫자를 입력 :\"))\n",
        "  sum = num1 * num2\n",
        "  return sum\n",
        "  \n",
        "def divide() :\n",
        "  num1 = float(input(\"첫번째 숫자를 입력 :\"))\n",
        "  num2 = float(input(\"두번째 숫자를 입력 :\"))\n",
        "  sum = num1 / num2\n",
        "  return sum\n",
        "\n",
        "while True :\n",
        "  menu()\n",
        "  select = int(input(\"메뉴를 선택 :\"))\n",
        "  if select ==5 :\n",
        "    break\n",
        "  elif select == 1 :\n",
        "    sum = add()\n",
        "    print(\"두 수의 덧셈 결과\", sum)\n",
        "  elif select == 2 :\n",
        "    sum = minus()\n",
        "    print(\"두 수의 뺄셈 결과\", sum)\n",
        "  elif select == 3 :\n",
        "    sum = times()\n",
        "    print(\"두 수의 곱셈 결과\", sum)\n",
        "  elif select == 4 :\n",
        "    sum = times()\n",
        "    print(\"두 수의 곱하기 결과\", sum)\n",
        "\n",
        "\n",
        "\n",
        "  \n",
        "\n",
        "  "
      ],
      "metadata": {
        "colab": {
          "base_uri": "https://localhost:8080/"
        },
        "id": "ooTgL4dkv1zb",
        "outputId": "3e66d6d3-eee5-4ab3-e562-b283e0db6db1"
      },
      "execution_count": 81,
      "outputs": [
        {
          "name": "stdout",
          "output_type": "stream",
          "text": [
            "##############\n",
            "# 1, 덧셈    #\n",
            "# 2, 뺄셈    #\n",
            "# 3, 나눗셈  #\n",
            "# 4, 곱셈    #\n",
            "# 5, 종료    #\n",
            "메뉴를 선택 :6\n",
            "##############\n",
            "# 1, 덧셈    #\n",
            "# 2, 뺄셈    #\n",
            "# 3, 나눗셈  #\n",
            "# 4, 곱셈    #\n",
            "# 5, 종료    #\n",
            "메뉴를 선택 :4\n",
            "첫번째 숫자를 입력 :2\n",
            "두번째 숫자를 입력 :5\n",
            "두 수의 나눗셈 결과 0.4\n",
            "##############\n",
            "# 1, 덧셈    #\n",
            "# 2, 뺄셈    #\n",
            "# 3, 나눗셈  #\n",
            "# 4, 곱셈    #\n",
            "# 5, 종료    #\n",
            "메뉴를 선택 :5\n"
          ]
        }
      ]
    },
    {
      "cell_type": "code",
      "source": [],
      "metadata": {
        "id": "JYpO5TPZxloo"
      },
      "execution_count": null,
      "outputs": []
    }
  ]
}