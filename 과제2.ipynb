{
  "nbformat": 4,
  "nbformat_minor": 0,
  "metadata": {
    "colab": {
      "provenance": [],
      "authorship_tag": "ABX9TyNXRTNYaVbpeNPHgzbVWaJf",
      "include_colab_link": true
    },
    "kernelspec": {
      "name": "python3",
      "display_name": "Python 3"
    },
    "language_info": {
      "name": "python"
    }
  },
  "cells": [
    {
      "cell_type": "markdown",
      "metadata": {
        "id": "view-in-github",
        "colab_type": "text"
      },
      "source": [
        "<a href=\"https://colab.research.google.com/github/yangwon1323/python/blob/main/%EA%B3%BC%EC%A0%9C2.ipynb\" target=\"_parent\"><img src=\"https://colab.research.google.com/assets/colab-badge.svg\" alt=\"Open In Colab\"/></a>"
      ]
    },
    {
      "cell_type": "code",
      "execution_count": null,
      "metadata": {
        "id": "z6JKH2uJGvYW"
      },
      "outputs": [],
      "source": []
    },
    {
      "cell_type": "code",
      "source": [
        "num1 = int(input(\"숫자1 ==>\"))\n",
        "num2 = int(input(\"숫자2 ==>\"))\n",
        "\n",
        "\n",
        "print(num1, \"+\", num2, \"=\",num1+num2)\n",
        "print(num1, \"-\", num2, \"=\",num1-num2)\n",
        "print(num1, \"*\", num2, \"=\",num1*num2)\n",
        "print(num1, \"/\", num2, \"=\",num1/num2)\n",
        "print(num1, \"%\", num2, \"=\",num1%num2)\n",
        "print(num1, \"**\", num2, \"=\",num1**num2)\n",
        "\n",
        "\n",
        "\n",
        "\n",
        "\n",
        "\n"
      ],
      "metadata": {
        "colab": {
          "base_uri": "https://localhost:8080/"
        },
        "id": "KiydA9xaHc9q",
        "outputId": "d008a86c-592d-40ff-9de9-5c3e19c86b95"
      },
      "execution_count": 9,
      "outputs": [
        {
          "output_type": "stream",
          "name": "stdout",
          "text": [
            "숫자1 ==>100\n",
            "숫자2 ==>10\n",
            "100 + 10 = 110\n",
            "100 - 10 = 90\n",
            "100 * 10 = 1000\n",
            "100 / 10 = 10.0\n",
            "100 % 10 = 0\n",
            "100 ** 10 = 100000000000000000000\n"
          ]
        }
      ]
    },
    {
      "cell_type": "code",
      "source": [],
      "metadata": {
        "id": "IMqDherNH_BQ"
      },
      "execution_count": null,
      "outputs": []
    }
  ]
}