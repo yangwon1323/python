{
  "nbformat": 4,
  "nbformat_minor": 0,
  "metadata": {
    "colab": {
      "provenance": [],
      "authorship_tag": "ABX9TyOjVXu9AsegeSUgfVmLi0jQ",
      "include_colab_link": true
    },
    "kernelspec": {
      "name": "python3",
      "display_name": "Python 3"
    },
    "language_info": {
      "name": "python"
    }
  },
  "cells": [
    {
      "cell_type": "markdown",
      "metadata": {
        "id": "view-in-github",
        "colab_type": "text"
      },
      "source": [
        "<a href=\"https://colab.research.google.com/github/yangwon1323/python/blob/main/%EA%B3%BC%EC%A0%9C6.ipynb\" target=\"_parent\"><img src=\"https://colab.research.google.com/assets/colab-badge.svg\" alt=\"Open In Colab\"/></a>"
      ]
    },
    {
      "cell_type": "code",
      "source": [
        "singer = [\"트\",\"와\",\"이\",\"스\"]\n",
        "\n",
        "reverse_singer = singer[3]+singer[2]+singer[1]+singer[0]\n",
        "                 \n",
        "print(\"원본 문자열:\",singer[0],singer[1],singer[2],singer[3])\n",
        "\n",
        "print(\"반대 문자열:\",reverse_singer)\n"
      ],
      "metadata": {
        "colab": {
          "base_uri": "https://localhost:8080/"
        },
        "id": "W6lkmC_gNYEM",
        "outputId": "15cb761a-9fe3-459e-bc57-6dda2629af30"
      },
      "execution_count": 11,
      "outputs": [
        {
          "output_type": "stream",
          "name": "stdout",
          "text": [
            "원본 문자열: 트 와 이 스\n",
            "반대 문자열: 스이와트\n"
          ]
        }
      ]
    },
    {
      "cell_type": "code",
      "source": [
        "singer = \"트와이스\"\n",
        "\n",
        "\n",
        "print(\"원본 문자열 :\", singer)\n",
        "print(\"반대 문자열 :\",singer[::-2])\n"
      ],
      "metadata": {
        "colab": {
          "base_uri": "https://localhost:8080/"
        },
        "id": "Gqw8SLThPnz8",
        "outputId": "8a7738d3-e7eb-451a-e852-906e96605f55"
      },
      "execution_count": 14,
      "outputs": [
        {
          "output_type": "stream",
          "name": "stdout",
          "text": [
            "원본 문자열 : 트와이스\n",
            "반대 문자열 : 스와\n"
          ]
        }
      ]
    },
    {
      "cell_type": "code",
      "source": [
        "singer = \"python\"\n",
        "\n",
        "singer1 = singer[0].lower() + singer[1:5+1].upper()\n",
        "print(singer1)"
      ],
      "metadata": {
        "colab": {
          "base_uri": "https://localhost:8080/"
        },
        "id": "rsLuJpsUQwuD",
        "outputId": "24cdc5ed-14d4-4f1f-9f7b-1a0049e086de"
      },
      "execution_count": 20,
      "outputs": [
        {
          "output_type": "stream",
          "name": "stdout",
          "text": [
            "pYTHON\n"
          ]
        }
      ]
    }
  ]
}