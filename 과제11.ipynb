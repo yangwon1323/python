{
  "nbformat": 4,
  "nbformat_minor": 0,
  "metadata": {
    "colab": {
      "provenance": [],
      "authorship_tag": "ABX9TyNQbA76JVWdkoWretuD9SbL",
      "include_colab_link": true
    },
    "kernelspec": {
      "name": "python3",
      "display_name": "Python 3"
    },
    "language_info": {
      "name": "python"
    }
  },
  "cells": [
    {
      "cell_type": "markdown",
      "metadata": {
        "id": "view-in-github",
        "colab_type": "text"
      },
      "source": [
        "<a href=\"https://colab.research.google.com/github/yangwon1323/python/blob/main/%EA%B3%BC%EC%A0%9C11.ipynb\" target=\"_parent\"><img src=\"https://colab.research.google.com/assets/colab-badge.svg\" alt=\"Open In Colab\"/></a>"
      ]
    },
    {
      "cell_type": "code",
      "execution_count": 17,
      "metadata": {
        "colab": {
          "base_uri": "https://localhost:8080/"
        },
        "id": "ba30Cdtaezqt",
        "outputId": "8abfc0bf-ce7f-45e6-82d2-7fcb371289c8"
      },
      "outputs": [
        {
          "output_type": "stream",
          "name": "stdout",
          "text": [
            "숫자 : 1\n",
            "숫자 : 2\n",
            "숫자 : 3\n",
            "숫자 : 4\n",
            "10\n"
          ]
        }
      ],
      "source": [
        "mylist = [0,1,2,3]\n",
        "\n",
        "mylist[0] = input(\"숫자 : \")\n",
        "mylist[1] = input(\"숫자 : \")\n",
        "mylist[2] = input(\"숫자 : \")\n",
        "mylist[3] = input(\"숫자 : \")\n",
        "\n",
        "sum = int(mylist[0]) + int(mylist[1]) + int(mylist[2]) + int(mylist[3])\n",
        "\n",
        "print(sum)\n"
      ]
    },
    {
      "cell_type": "code",
      "source": [],
      "metadata": {
        "id": "o_eWOvq7umjy"
      },
      "execution_count": null,
      "outputs": []
    },
    {
      "cell_type": "code",
      "source": [
        "mylist = []\n",
        "\n",
        "mylist.append(\"안산\")\n",
        "mylist.append(\"안공\")\n",
        "mylist.append(3100)\n",
        "mylist.append(777)\n",
        "\n",
        "print(mylist)\n",
        "\n",
        "\n"
      ],
      "metadata": {
        "colab": {
          "base_uri": "https://localhost:8080/"
        },
        "id": "OuOJGPpxsuBD",
        "outputId": "66e6c16a-1809-402e-edae-bac5cc1c7b21"
      },
      "execution_count": 10,
      "outputs": [
        {
          "output_type": "stream",
          "name": "stdout",
          "text": [
            "['안산', '안공', 3100, 777]\n"
          ]
        }
      ]
    },
    {
      "cell_type": "code",
      "source": [
        "import random\n",
        "wisesay = [\"중꺽마\",\"피할 수 없으면 즐겨라\",\"네 자신을 알라\",\"신은 용기있는 자를 결코 버리지 않는다\",\"내일은 내일의 태양이 뜬다 \"]\n",
        "\n",
        "rnd_say = wisesay[(random.randint(0,4))]\n",
        "\n",
        "print(rnd_say)\n",
        "\n"
      ],
      "metadata": {
        "colab": {
          "base_uri": "https://localhost:8080/"
        },
        "id": "ubsOOjmeoe4e",
        "outputId": "f9af34c5-9539-4e44-c049-8263e5873751"
      },
      "execution_count": 26,
      "outputs": [
        {
          "output_type": "stream",
          "name": "stdout",
          "text": [
            "내일은 내일의 태양이 뜬다 \n"
          ]
        }
      ]
    },
    {
      "cell_type": "code",
      "source": [
        "import random\n",
        "wisesay = [\"중꺽마\",\"피할 수 없으면 즐겨라\",\"네 자신을 알라\",\"신은 용기있는 자를 결코 버리지 않는다\",\"내일은 내일의 태양이 뜬다 \"]\n",
        "\n",
        "\n",
        "rnd = random.randint(0,len(wisesay)-1)\n",
        "rnd_say = wisesay[(random.randint(0,4))]\n",
        "\n",
        "print(rnd_say)\n"
      ],
      "metadata": {
        "colab": {
          "base_uri": "https://localhost:8080/"
        },
        "id": "Wb6NEKceyGR7",
        "outputId": "bdba3a98-7613-44a8-f001-a46da6a12c4b"
      },
      "execution_count": 29,
      "outputs": [
        {
          "output_type": "stream",
          "name": "stdout",
          "text": [
            "내일은 내일의 태양이 뜬다 \n"
          ]
        }
      ]
    },
    {
      "cell_type": "code",
      "source": [
        "import datetime\n",
        "\n",
        "now = datetime.date.today()\n",
        "Birthday = datetime.date(2005,1,28)\n",
        "age = now - Birthday\n",
        "print(age.days/365)\n",
        "\n",
        "\n"
      ],
      "metadata": {
        "colab": {
          "base_uri": "https://localhost:8080/"
        },
        "id": "dDJ5_m8Syg_h",
        "outputId": "821f5a52-7160-499c-b0d0-38075e732ec9"
      },
      "execution_count": 37,
      "outputs": [
        {
          "output_type": "stream",
          "name": "stdout",
          "text": [
            "18.208219178082192\n"
          ]
        }
      ]
    }
  ]
}