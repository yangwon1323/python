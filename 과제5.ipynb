{
  "nbformat": 4,
  "nbformat_minor": 0,
  "metadata": {
    "colab": {
      "provenance": [],
      "authorship_tag": "ABX9TyNT2Fpx//klIfzKOpontkYy",
      "include_colab_link": true
    },
    "kernelspec": {
      "name": "python3",
      "display_name": "Python 3"
    },
    "language_info": {
      "name": "python"
    }
  },
  "cells": [
    {
      "cell_type": "markdown",
      "metadata": {
        "id": "view-in-github",
        "colab_type": "text"
      },
      "source": [
        "<a href=\"https://colab.research.google.com/github/yangwon1323/python/blob/main/%EA%B3%BC%EC%A0%9C5.ipynb\" target=\"_parent\"><img src=\"https://colab.research.google.com/assets/colab-badge.svg\" alt=\"Open In Colab\"/></a>"
      ]
    },
    {
      "cell_type": "code",
      "execution_count": null,
      "metadata": {
        "id": "S3K_pnDiVTRj"
      },
      "outputs": [],
      "source": []
    },
    {
      "cell_type": "code",
      "source": [
        "score = int(input(\"정보처리기능사 합격 점수:\"))\n",
        "\n",
        "if score >=60 :\n",
        "  print(\"합격\")\n",
        "  print(\"축하드립니다\")\n",
        "else :\n",
        "  print(\"다시 한 번 시험을 보세요\")"
      ],
      "metadata": {
        "colab": {
          "base_uri": "https://localhost:8080/"
        },
        "id": "iJuYLQebWCVl",
        "outputId": "4ebbbaa2-b7a5-4a1d-9770-b0a536770607"
      },
      "execution_count": 3,
      "outputs": [
        {
          "output_type": "stream",
          "name": "stdout",
          "text": [
            "정보처리기능사 합격 점수:50\n",
            "다시 한 번 시험을 보세요\n"
          ]
        }
      ]
    },
    {
      "cell_type": "code",
      "source": [
        "# 한줄 주석문 연습\n",
        "\"\"\"\n",
        "프로그래밍 수업 : 3월 20일\n",
        "프로그래머 : 양원\n",
        "프로그램 최종 작성일 : 3월 20일\n",
        "프로그램명 : 학점 계산 프로그램\n",
        "\"\"\"\n",
        "print(\"파이썬(3) : B(3.5)\\n\")\n",
        "print(\"모바일(2) : A(4.0)\\n\")\n",
        "print(\"엑셀(1) : A(4.5)\")\n",
        "python = float(input(\"파이썬 성적을 입력하세요:\"))\n",
        "mobile = float(input(\"모바일 성적을 입력하세요:\"))\n",
        "excel = float(input(\"엑셀 성적을 입력하세요\"))\n",
        "\n",
        "result = (python * 3) + (mobile * 2) + excel\n",
        "avg = result / 6\n",
        "\n",
        "print(\"평균 학점은\", round(avg, 3))\n",
        "\n",
        "\n",
        "\n"
      ],
      "metadata": {
        "colab": {
          "base_uri": "https://localhost:8080/"
        },
        "id": "jMkPFw3AYDkL",
        "outputId": "98187ccc-1842-4ec1-fca5-6d810a500e69"
      },
      "execution_count": 12,
      "outputs": [
        {
          "output_type": "stream",
          "name": "stdout",
          "text": [
            "파이썬(3) : B(3.5)\n",
            "\n",
            "모바일(2) : A(4.0)\n",
            "\n",
            "엑셀(1) : A(4.5)\n",
            "파이썬 성적을 입력하세요:36\n",
            "모바일 성적을 입력하세요:56\n",
            "엑셀 성적을 입력하세요26\n",
            "평균 학점은 41.0\n"
          ]
        }
      ]
    },
    {
      "cell_type": "code",
      "source": [
        "print(\"\\n 줄바꿈 \\n 연습\")\n",
        "print(\"\\t 탭키 \\t 연습\")\n",
        "print(\"어떤 글자를 \\ '강조\\' 하는 효과1\")\n",
        "print(\"어떤 글자를 \\ '강조\\' 하는 효과2\")\n",
        "print(\"\\\\\\\\ 백슬래시 2개 출력\")"
      ],
      "metadata": {
        "colab": {
          "base_uri": "https://localhost:8080/"
        },
        "id": "IrpDAExoZR09",
        "outputId": "43060273-618b-4c87-e660-40e7ab5888da"
      },
      "execution_count": 14,
      "outputs": [
        {
          "output_type": "stream",
          "name": "stdout",
          "text": [
            "\n",
            " 줄바꿈 \n",
            " 연습\n",
            "\t 탭키 \t 연습\n",
            "어떤 글자를 \\ '강조' 하는 효과1\n",
            "어떤 글자를 \\ '강조' 하는 효과2\n",
            "\\\\ 백슬래시 2개 출력\n"
          ]
        }
      ]
    },
    {
      "cell_type": "code",
      "source": [
        "string1 = len(input(\"첫 번째 문자열 ==>\"))\n",
        "string2 = len(input(\"두 번째 문자열 ==>\"))\n",
        "print(\"두 문자열의 길이 차이는\",string1-string2)\n",
        "\n"
      ],
      "metadata": {
        "colab": {
          "base_uri": "https://localhost:8080/"
        },
        "id": "RNylc-E1eZAq",
        "outputId": "eb851c9c-97ff-422a-b3c1-f7e2eeda7b1b"
      },
      "execution_count": 15,
      "outputs": [
        {
          "output_type": "stream",
          "name": "stdout",
          "text": [
            "첫 번째 문자열 ==>10\n",
            "두 번째 문자열 ==>6\n",
            "두 문자열의 길이 차이는 1\n"
          ]
        }
      ]
    },
    {
      "cell_type": "code",
      "source": [
        "str1 =\"\"\"\n",
        "안산공업고등학교 컴퓨터과, 안산공업고등학교는\n",
        "기계과, 디자인과, 전자과, 화공과, 컴퓨터과, 전기과로 총 6개의\n",
        "과로 이뤄져있습니다.\n",
        "\"\"\"\n",
        "strlen = str1.count(\"안산\")\n",
        "print(strlen)\n"
      ],
      "metadata": {
        "colab": {
          "base_uri": "https://localhost:8080/"
        },
        "id": "S1tJBF0qieBw",
        "outputId": "96951120-bd2e-4555-b3cb-49d24fbf543f"
      },
      "execution_count": 16,
      "outputs": [
        {
          "output_type": "stream",
          "name": "stdout",
          "text": [
            "2\n"
          ]
        }
      ]
    },
    {
      "cell_type": "code",
      "source": [
        "# 렛잇비 가사\n",
        "\n",
        "str = \"\"\"\n",
        "When I find myself in times of trouble, Mother Mary comes to me\n",
        "Speaking words of wisdom, let it be\n",
        "And in my hour of darkness she is standing right in front of me\n",
        "Speaking words of wisdom, let it be\n",
        "Let it be, let it be, let it be, let it be\n",
        "Whisper words of wisdom, let it be\n",
        "And when the broken hearted people living in the world agree\n",
        "There will be an answer, let it be\n",
        "For though they may be parted, there is still a chance that they will see\n",
        "There will be an answer, let it be\n",
        "Let it be, let it be, let it be, let it be\n",
        "There will be an answer, let it be\n",
        "Let it be, let it be, let it be, let it be\n",
        "Whisper words of wisdom, let it be\n",
        "Let it be, let it be, let it be, let it be\n",
        "Whisper words of wisdom, let it be, be\n",
        "And when the night is cloudy there is still a light that shines on me\n",
        "Shinin' until tomorrow, let it be\n",
        "I wake up to the sound of music, Mother Mary comes to me\n",
        "Speaking words of wisdom, let it be\n",
        "And let it be, let it be, let it be, let it be\n",
        "Whisper words of wisdom, let it be\n",
        "And let it be, let it be, let it be, let it be\n",
        "Whisper words of wisdom, let it be\n",
        "\n",
        "\"\"\"\n",
        "str1 = str.lower()\n",
        "\n",
        "print(str1.count(\"let it be\"))\n",
        "\n"
      ],
      "metadata": {
        "colab": {
          "base_uri": "https://localhost:8080/"
        },
        "id": "vsaTcuvJkKo_",
        "outputId": "f2cc4930-f050-401a-8152-aa3873c6ec02"
      },
      "execution_count": 29,
      "outputs": [
        {
          "output_type": "stream",
          "name": "stdout",
          "text": [
            "36\n"
          ]
        }
      ]
    }
  ]
}