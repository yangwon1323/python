{
  "nbformat": 4,
  "nbformat_minor": 0,
  "metadata": {
    "colab": {
      "provenance": [],
      "authorship_tag": "ABX9TyM8txFXz7lJqkuia3anMkGB",
      "include_colab_link": true
    },
    "kernelspec": {
      "name": "python3",
      "display_name": "Python 3"
    },
    "language_info": {
      "name": "python"
    }
  },
  "cells": [
    {
      "cell_type": "markdown",
      "metadata": {
        "id": "view-in-github",
        "colab_type": "text"
      },
      "source": [
        "<a href=\"https://colab.research.google.com/github/yangwon1323/python/blob/main/myFirstPython.ipynb\" target=\"_parent\"><img src=\"https://colab.research.google.com/assets/colab-badge.svg\" alt=\"Open In Colab\"/></a>"
      ]
    },
    {
      "cell_type": "code",
      "source": [
        "1.PRINT(\"안산공업고등학교\")\n",
        "2.PRINT(\"컴퓨터과 3학년 1반 16번 양원\")\n",
        "3.PRINT(\"파이썬 기초 수업\")"
      ],
      "metadata": {
        "id": "KeOtWytgixJu"
      },
      "execution_count": null,
      "outputs": []
    },
    {
      "cell_type": "markdown",
      "source": [
        "2023학년도 응용프로그래밍 화면구현\n",
        "파이썬 기초"
      ],
      "metadata": {
        "id": "T1hU2h_rijbW"
      }
    }
  ]
}