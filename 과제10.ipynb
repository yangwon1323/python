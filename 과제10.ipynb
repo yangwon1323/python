{
  "nbformat": 4,
  "nbformat_minor": 0,
  "metadata": {
    "colab": {
      "provenance": [],
      "authorship_tag": "ABX9TyPV/EDa56I0U6QETwRAyHQn",
      "include_colab_link": true
    },
    "kernelspec": {
      "name": "python3",
      "display_name": "Python 3"
    },
    "language_info": {
      "name": "python"
    }
  },
  "cells": [
    {
      "cell_type": "markdown",
      "metadata": {
        "id": "view-in-github",
        "colab_type": "text"
      },
      "source": [
        "<a href=\"https://colab.research.google.com/github/yangwon1323/python/blob/main/%EA%B3%BC%EC%A0%9C10.ipynb\" target=\"_parent\"><img src=\"https://colab.research.google.com/assets/colab-badge.svg\" alt=\"Open In Colab\"/></a>"
      ]
    },
    {
      "cell_type": "code",
      "execution_count": 23,
      "metadata": {
        "colab": {
          "base_uri": "https://localhost:8080/"
        },
        "id": "FbGgqoyYP-p9",
        "outputId": "50379243-bd9c-4362-cdfb-bbd0277d1e30"
      },
      "outputs": [
        {
          "output_type": "stream",
          "name": "stdout",
          "text": [
            "주사위 3개가 모두  5 이다.\n",
            "같은 숫자가 나오기 까지  126 번 던졌다.\n"
          ]
        }
      ],
      "source": [
        "import random\n",
        "count = 0\n",
        "\n",
        "while True :\n",
        "\n",
        "  dice1 = random.randint(1,6)\n",
        "  dice2 = random.randint(1,6)\n",
        "  dice3 = random.randint(1,6)\n",
        "  count = count + 1\n",
        "  if dice1 == dice2 == dice3 :\n",
        "    print(\"주사위 3개가 모두 \",dice1, \"이다.\")\n",
        "    print(\"같은 숫자가 나오기 까지 \", count, \"번 던졌다.\")\n",
        "    break\n",
        " \n"
      ]
    },
    {
      "cell_type": "code",
      "source": [
        "import random\n",
        "\n",
        "game_count = 1\n",
        "player = 0\n",
        "count_number = 0\n",
        "\n",
        "while game_count <= 10 :\n",
        " count_number = random.randint(1, 5)\n",
        " print(\"제\", game_count, \"회 :\",end= \" \")\n",
        " player = int(input(\"  \"))\n",
        "\n",
        " game_count =  game_count  + 1\n",
        " \n",
        " if count_number == player :\n",
        "   print(\"축하합니다\")\n",
        "   break\n",
        "   \n",
        " else :\n",
        "  print(\"아까워요\",count_number,\"였는데요. 다시 해보세요. ㅠ\")\n",
        "  \n",
        "  \n",
        "\n",
        "  \n",
        "\n",
        "\n",
        "\n",
        "\n",
        "\n",
        "\n",
        "\n",
        "\n",
        "\n",
        "\n"
      ],
      "metadata": {
        "colab": {
          "base_uri": "https://localhost:8080/"
        },
        "id": "mH6x9RNoSFnF",
        "outputId": "00c01f1d-c81b-48da-a830-22b27b112628"
      },
      "execution_count": 26,
      "outputs": [
        {
          "output_type": "stream",
          "name": "stdout",
          "text": [
            "제 1 회 :   1\n",
            "아까워요 5 였는데요. 다시 해보세요. ㅠ\n",
            "제 2 회 :   2\n",
            "아까워요 4 였는데요. 다시 해보세요. ㅠ\n",
            "제 3 회 :   3\n",
            "아까워요 4 였는데요. 다시 해보세요. ㅠ\n",
            "제 4 회 :   4\n",
            "축하합니다\n"
          ]
        }
      ]
    },
    {
      "cell_type": "code",
      "source": [],
      "metadata": {
        "id": "lNtyoZGOgLmQ"
      },
      "execution_count": 27,
      "outputs": []
    },
    {
      "cell_type": "code",
      "source": [
        "from logging import setLogRecordFactory\n",
        "import random\n",
        "game_number = 1\n",
        "secret_number = random.sample(range(1, 10, 3) # range\n",
        "print(secret_number)\n",
        "\n",
        "while game_count <=10 :\n",
        " strike = 0\n",
        " ball = 0\n",
        "\n",
        " player_number = input(\"3자리 숫자를 입력하세요 :\")\n",
        " player_number = list(player_number)\n",
        " player_number[0] = int(player_number[0])\n",
        " player_number[1] = int(player_number[1])\n",
        " player_number[2] = int(player_number[2])\n",
        "\n",
        " if (secret_number[0] == player_number[0]) :\n",
        "   strike = strike +1\n",
        " elif(secret_number[0]) in secret_number :\n",
        "   ball = ball + 1\n",
        " if (secret_number[1] == player_number[1]) :\n",
        "   strike = strike +1\n",
        " elif(secret_number[1]) in secret_number :\n",
        "   ball = ball + 1\n",
        "  if(secret_number[2]) in secret_number[2] :\n",
        "    strike = strike +1\n",
        "  elif(secret_number[2]) in secret_number :\n",
        "   ball = ball + 1\n",
        "\n",
        "  print(strike , \"-스트라이크 // \", ball, \"-볼\")\n",
        "  if strike  ==3 :\n",
        "    print(\"맞췄습니다\")\n",
        "    break   \n",
        "    \n",
        "\n",
        "\n",
        "\n",
        "  \n",
        "\n",
        "\n",
        "\n"
      ],
      "metadata": {
        "id": "ry60q1tciHsR"
      },
      "execution_count": null,
      "outputs": []
    },
    {
      "cell_type": "code",
      "source": [
        "import random\n",
        "\n",
        "rnd_num = [1,2,3,4,5,6,7,8,9]\n",
        "\n",
        "r1= random.choice (rnd_num)\n",
        "rnd_num.remove(r1)\n",
        "print(\"리스트 : \", rnd_num)\n",
        "print(\"랜덤값 : \",r1)"
      ],
      "metadata": {
        "colab": {
          "base_uri": "https://localhost:8080/"
        },
        "id": "etmT1Mx7SIn4",
        "outputId": "e6534e1b-fb49-431b-f43b-706076e459f1"
      },
      "execution_count": 10,
      "outputs": [
        {
          "output_type": "stream",
          "name": "stdout",
          "text": [
            "리스트 :  [1, 2, 3, 4, 5, 6, 7, 9]\n",
            "랜덤값 :  8\n"
          ]
        }
      ]
    }
  ]
}