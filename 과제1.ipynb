{
  "nbformat": 4,
  "nbformat_minor": 0,
  "metadata": {
    "colab": {
      "provenance": [],
      "authorship_tag": "ABX9TyPqISlK/Uc1fivbOOubdaKY",
      "include_colab_link": true
    },
    "kernelspec": {
      "name": "python3",
      "display_name": "Python 3"
    },
    "language_info": {
      "name": "python"
    }
  },
  "cells": [
    {
      "cell_type": "markdown",
      "metadata": {
        "id": "view-in-github",
        "colab_type": "text"
      },
      "source": [
        "<a href=\"https://colab.research.google.com/github/yangwon1323/python/blob/main/%EA%B3%BC%EC%A0%9C1.ipynb\" target=\"_parent\"><img src=\"https://colab.research.google.com/assets/colab-badge.svg\" alt=\"Open In Colab\"/></a>"
      ]
    },
    {
      "cell_type": "code",
      "source": [
        "print(\"## 택배를 보내기 위한 정보를 입력하세요.##\")\n",
        "recieve_name = input(\"받는 사람:\")\n",
        "address = input(\"주소 :\")\n",
        "weight = int(input(\"무게(5g)\"))\n",
        "valuse = weight *5\n",
        "print(\"** 받는 사람 ==>\",recieve_name)\n",
        "print(\"** 주소==>\",address)\n",
        "print(\"** weight ==>\" ,valuse)\n",
        "\n"
      ],
      "metadata": {
        "colab": {
          "base_uri": "https://localhost:8080/"
        },
        "id": "JmCTbYyqVmEg",
        "outputId": "10418207-8108-43de-f3b5-d06110084863"
      },
      "execution_count": 4,
      "outputs": [
        {
          "output_type": "stream",
          "name": "stdout",
          "text": [
            "## 택배를 보내기 위한 정보를 입력하세요.##\n",
            "받는 사람:앙\n",
            "주소 :앙\n",
            "무게(5g)10\n",
            "** 받는 사람 ==> 앙\n",
            "** 주소==> 앙\n",
            "** weight ==> 50\n"
          ]
        }
      ]
    }
  ]
}