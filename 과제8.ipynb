{
  "nbformat": 4,
  "nbformat_minor": 0,
  "metadata": {
    "colab": {
      "provenance": [],
      "authorship_tag": "ABX9TyPLKjS7RaUKu1LFubUFGZPf",
      "include_colab_link": true
    },
    "kernelspec": {
      "name": "python3",
      "display_name": "Python 3"
    },
    "language_info": {
      "name": "python"
    }
  },
  "cells": [
    {
      "cell_type": "markdown",
      "metadata": {
        "id": "view-in-github",
        "colab_type": "text"
      },
      "source": [
        "<a href=\"https://colab.research.google.com/github/yangwon1323/python/blob/main/%EA%B3%BC%EC%A0%9C8.ipynb\" target=\"_parent\"><img src=\"https://colab.research.google.com/assets/colab-badge.svg\" alt=\"Open In Colab\"/></a>"
      ]
    },
    {
      "cell_type": "code",
      "execution_count": 14,
      "metadata": {
        "colab": {
          "base_uri": "https://localhost:8080/"
        },
        "id": "WuYu3yajXiox",
        "outputId": "be765c2d-36de-4f34-a35d-3e36bd0bac12"
      },
      "outputs": [
        {
          "output_type": "stream",
          "name": "stdout",
          "text": [
            "23 42 12 38 31 27 "
          ]
        }
      ],
      "source": [
        "import random\n",
        "\n",
        "lottoNumber = [0,0,0,0,0,0]\n",
        "\n",
        "for i in range(6):\n",
        " lottoNumber[i] = random.randint(1,45)\n",
        "for i in range(6):\n",
        "  print(lottoNumber[i],end=\" \")\n"
      ]
    },
    {
      "cell_type": "code",
      "source": [
        "select = [\"가위\", \"바위\",\"보\"]\n",
        "computer = random.choice(select)\n",
        "\n",
        "while True:\n",
        "    user = input(\"가위바위보중에 하나를 입력하세요==>\")\n",
        "    if user in select:\n",
        "      break\n",
        "    print(\"잘못된 입력입니다. 다시 입력하세요\")\n",
        "\n",
        "print(f\"컴퓨터는{computer} 를 냈습니다.\")\n",
        "print(f\"당신은{user} 를 보냈습니다.\")\n",
        "\n",
        "if user ==\"가위\" and computer ==\"보\"or \\\n",
        "   user ==\"바위\" and computer ==\"가위\"or \\\n",
        "   user ==\"바위\" and computer ==\"가위\":\n",
        "    print(\"당신이 이겼습니다.\")\n",
        "else :\n",
        "    print(\"당신이 졌습니다\")"
      ],
      "metadata": {
        "colab": {
          "base_uri": "https://localhost:8080/"
        },
        "id": "1nmYt4S1aPMX",
        "outputId": "482a01a5-eb52-423f-d985-bc63fc44cdfa"
      },
      "execution_count": 41,
      "outputs": [
        {
          "output_type": "stream",
          "name": "stdout",
          "text": [
            "가위바위보중에 하나를 입력하세요==>묵\n",
            "잘못된 입력입니다. 다시 입력하세요\n",
            "가위바위보중에 하나를 입력하세요==>바위\n",
            "컴퓨터는바위 를 냈습니다.\n",
            "당신은바위 를 보냈습니다.\n",
            "당신이 졌습니다\n"
          ]
        }
      ]
    },
    {
      "cell_type": "code",
      "source": [],
      "metadata": {
        "id": "LRQcNqNpcaEo"
      },
      "execution_count": null,
      "outputs": []
    },
    {
      "cell_type": "code",
      "source": [
        "import random\n",
        "foods = [\"떡볶이,순대,소고기\",\"쿠키\",\"라면\"]\n",
        "result = random.choice(foods)\n",
        "print(result)\n"
      ],
      "metadata": {
        "colab": {
          "base_uri": "https://localhost:8080/"
        },
        "id": "CX25AQogZRCV",
        "outputId": "02cfd6aa-4517-4a2d-eabb-f4a4c2adb7de"
      },
      "execution_count": 19,
      "outputs": [
        {
          "output_type": "stream",
          "name": "stdout",
          "text": [
            "떡볶이,순대,소고기\n"
          ]
        }
      ]
    },
    {
      "cell_type": "code",
      "source": [
        "import random\n",
        "\n",
        "computer = \"\"\n",
        "player = input(\"나의 가위/바위/보==>\")\n",
        "computer = random.choice([\"가위\",\"바위\",\"보\"])\n",
        "\n",
        "if computer == player :\n",
        "  print(computer,\"비겼다.\")\n",
        "elif (player == \"가위\" and  computer == \"보\") or \\\n",
        "(player == \"바위\" and  computer == \"가위\") or \\\n",
        "(player == \"보\" and  computer == \"바위\") :\n",
        "  print(computer,\"이겼다.\")\n",
        "else :\n",
        "  print(\"졌다.\")\n",
        "\n",
        "\n",
        "  \n",
        "  \n",
        "\n",
        "   \n",
        "\n",
        "\n",
        "\n",
        "\n"
      ],
      "metadata": {
        "colab": {
          "base_uri": "https://localhost:8080/"
        },
        "id": "wGuTGTJVc4B-",
        "outputId": "f23ca5fa-c98c-4f2b-eba5-dd0e20d34758"
      },
      "execution_count": 39,
      "outputs": [
        {
          "output_type": "stream",
          "name": "stdout",
          "text": [
            "나의 가위/바위/보==>묵\n",
            "졌다.\n"
          ]
        }
      ]
    },
    {
      "cell_type": "code",
      "source": [],
      "metadata": {
        "id": "_VbZvYHQdG5m"
      },
      "execution_count": null,
      "outputs": []
    }
  ]
}